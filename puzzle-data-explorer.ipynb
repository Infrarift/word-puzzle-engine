{
 "cells": [
  {
   "cell_type": "code",
   "execution_count": null,
   "metadata": {},
   "outputs": [],
   "source": [
    "from wpg.data.importer import Importer\n",
    "\n",
    "importer = Importer()\n",
    "\n",
    "ban_list = importer.extract_literals(\"data/eng_ban\")\n",
    "\n",
    "importer.extract_words(file_path=\"data/eng_count\",\n",
    "                       db_path='data/eng_wordbase.db',\n",
    "                       ban_list=ban_list,\n",
    "                       delimiter='\\t',\n",
    "                       max_symbols=8, \n",
    "                       divide=1,  \n",
    "                       max_words=100000)\n",
    "\n",
    "print(\"Extraction Complete\")"
   ]
  },
  {
   "cell_type": "code",
   "execution_count": 2,
   "metadata": {},
   "outputs": [
    {
     "name": "stdout",
     "output_type": "stream",
     "text": [
      "Collisions between bvfda and abc: 3\n"
     ]
    }
   ],
   "source": [
    "from wpg.util import lexi_collisions\n",
    "\n",
    "word1 = \"bvfda\"\n",
    "word2 = \"abc\"\n",
    "\n",
    "collisions = lexi_collisions(word1, word2)"
   ]
  },
  {
   "cell_type": "code",
   "execution_count": null,
   "metadata": {
    "collapsed": true,
    "scrolled": true
   },
   "outputs": [],
   "source": [
    "from wpg.data.importer import Importer\n",
    "\n",
    "importer = Importer()\n",
    "importer.extract_words(\"data/thai_dict\",\n",
    "                       db_path='data/thai_dict.db',\n",
    "                       delimiter='\\t',\n",
    "                       max_symbols=8, \n",
    "                       divide=3,  \n",
    "                       max_words=0)\n",
    "\n",
    "print(\"Done\")"
   ]
  },
  {
   "cell_type": "code",
   "execution_count": null,
   "metadata": {
    "collapsed": true,
    "scrolled": true
   },
   "outputs": [],
   "source": [
    "from wpg.generator import Generator\n",
    "generator = Generator()\n",
    "generator.import_data(\"data/thai_dict.db\")\n",
    "generator.set_output_dir(\"thai_cookie/\")\n",
    "generator.calibrate_buckets()\n",
    "generator.print_stats()"
   ]
  },
  {
   "cell_type": "code",
   "execution_count": null,
   "metadata": {
    "collapsed": true
   },
   "outputs": [],
   "source": [
    "# from wpg.generator import Generator\n",
    "# generator = Generator()\n",
    "# generator.load(\"data/thai_generator\")\n",
    "# generator.print_stats()"
   ]
  },
  {
   "cell_type": "code",
   "execution_count": null,
   "metadata": {
    "collapsed": true
   },
   "outputs": [],
   "source": [
    "generator.save(\"data/thai_generator\")"
   ]
  },
  {
   "cell_type": "code",
   "execution_count": null,
   "metadata": {
    "collapsed": true
   },
   "outputs": [],
   "source": [
    "TIER = 4\n",
    "N = 5\n",
    "generator.tier_manager.tiers[TIER].sort_bucket_array()\n",
    "generator.top_n_buckets(TIER, N)"
   ]
  },
  {
   "cell_type": "code",
   "execution_count": null,
   "metadata": {
    "collapsed": true
   },
   "outputs": [],
   "source": [
    "def make_level(n_puzzles, block_def):\n",
    "    for i in range(n_puzzles):\n",
    "        generator.make_puzzle_block(block_def, 0, 0.1)"
   ]
  },
  {
   "cell_type": "code",
   "execution_count": null,
   "metadata": {
    "collapsed": true
   },
   "outputs": [],
   "source": [
    "generator.reset_flags()\n",
    "\n",
    "make_level(2, {3:5})\n",
    "    \n",
    "make_level(3, {4:10})\n",
    "\n",
    "make_level(5, {4:5, 5:15})\n",
    "\n",
    "make_level(10, {5:20})\n",
    "\n",
    "make_level(10, {5:15, 6:5})\n",
    "\n",
    "make_level(10, {6:20})\n",
    "  \n",
    "make_level(10, {6:10, 7:10})\n",
    "\n",
    "make_level(10, {7:20})"
   ]
  }
 ],
 "metadata": {
  "kernelspec": {
   "display_name": "Python 2",
   "language": "python",
   "name": "python2"
  },
  "language_info": {
   "codemirror_mode": {
    "name": "ipython",
    "version": 2
   },
   "file_extension": ".py",
   "mimetype": "text/x-python",
   "name": "python",
   "nbconvert_exporter": "python",
   "pygments_lexer": "ipython2",
   "version": "2.7.13"
  }
 },
 "nbformat": 4,
 "nbformat_minor": 2
}
