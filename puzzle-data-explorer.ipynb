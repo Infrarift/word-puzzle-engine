{
 "cells": [
  {
   "cell_type": "code",
   "execution_count": null,
   "metadata": {},
   "outputs": [],
   "source": [
    "from wpg.data.importer import Importer\n",
    "\n",
    "importer = Importer()\n",
    "importer.set_symbols(\"data/thai_symbols\")"
   ]
  },
  {
   "cell_type": "code",
   "execution_count": 1,
   "metadata": {
    "scrolled": false
   },
   "outputs": [
    {
     "name": "stdout",
     "output_type": "stream",
     "text": [
      "ก\n",
      "['\\xe0\\xb8\\x81']\n",
      "\n",
      "กค\n",
      "['\\xe0\\xb8\\x81', '\\xe0\\xb8\\x84']\n",
      "\n",
      "กต\n",
      "['\\xe0\\xb8\\x81', '\\xe0\\xb8\\x95']\n",
      "\n",
      "กปส\n",
      "['\\xe0\\xb8\\x81', '\\xe0\\xb8\\x9b', '\\xe0\\xb8\\xaa']\n",
      "\n",
      "กพ\n",
      "['\\xe0\\xb8\\x81', '\\xe0\\xb8\\x9e']\n",
      "\n",
      "กพด\n",
      "['\\xe0\\xb8\\x81', '\\xe0\\xb8\\x9e', '\\xe0\\xb8\\x94']\n",
      "\n",
      "กม\n",
      "['\\xe0\\xb8\\x81', '\\xe0\\xb8\\xa1']\n",
      "\n",
      "กย\n",
      "['\\xe0\\xb8\\x81', '\\xe0\\xb8\\xa2']\n",
      "\n",
      "กย\n",
      "['\\xe0\\xb8\\x81', '\\xe0\\xb8\\xa2']\n",
      "\n",
      "กร\n",
      "['\\xe0\\xb8\\x81', '\\xe0\\xb8\\xa3']\n",
      "\n",
      "กลต\n",
      "['\\xe0\\xb8\\x81', '\\xe0\\xb8\\xa5', '\\xe0\\xb8\\x95']\n",
      "\n",
      "0\n",
      "INSERT INTO symbol_string (key, score) VALUES ('ก', 0)\n",
      "0\n",
      "INSERT INTO symbol_string (key, score) VALUES ('กค', 0)\n",
      "0\n",
      "INSERT INTO symbol_string (key, score) VALUES ('กต', 0)\n",
      "0\n",
      "INSERT INTO symbol_string (key, score) VALUES ('กปส', 0)\n",
      "0\n",
      "INSERT INTO symbol_string (key, score) VALUES ('กพ', 0)\n",
      "0\n",
      "INSERT INTO symbol_string (key, score) VALUES ('กพด', 0)\n",
      "0\n",
      "INSERT INTO symbol_string (key, score) VALUES ('กม', 0)\n",
      "0\n",
      "INSERT INTO symbol_string (key, score) VALUES ('กย', 0)\n",
      "1\n",
      "0\n",
      "INSERT INTO symbol_string (key, score) VALUES ('กร', 0)\n",
      "0\n",
      "INSERT INTO symbol_string (key, score) VALUES ('กลต', 0)\n"
     ]
    }
   ],
   "source": [
    "from wpg.data.importer import Importer\n",
    "\n",
    "importer = Importer()\n",
    "# importer.create_db(\"data/eng_dict.db\", \"data/eng_dict.txt\")\n",
    "sym_str = importer.extract_words(\"data/thai_dict\",  \n",
    "                                   max_symbols=8, \n",
    "                                   divide=3, \n",
    "                                   max_words=10)\n",
    "\n",
    "importer.create_db(\"data/thai_dict.db\", sym_str)"
   ]
  }
 ],
 "metadata": {
  "kernelspec": {
   "display_name": "Python 2",
   "language": "python",
   "name": "python2"
  },
  "language_info": {
   "codemirror_mode": {
    "name": "ipython",
    "version": 2
   },
   "file_extension": ".py",
   "mimetype": "text/x-python",
   "name": "python",
   "nbconvert_exporter": "python",
   "pygments_lexer": "ipython2",
   "version": "2.7.13"
  }
 },
 "nbformat": 4,
 "nbformat_minor": 2
}
