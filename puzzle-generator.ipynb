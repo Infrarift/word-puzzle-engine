{
 "cells": [
  {
   "cell_type": "markdown",
   "metadata": {},
   "source": [
    "# Word Puzzle Generator\n",
    "This system generates a set of word puzzles for mobile games. First we need to import the data, then build a graph for the generator. We can save/load the generator, and use the generator to traverse the graph and create puzzles to a CSV format."
   ]
  },
  {
   "cell_type": "code",
   "execution_count": null,
   "metadata": {
    "collapsed": true
   },
   "outputs": [],
   "source": [
    "# ENGLISH SET\n",
    "\n",
    "MAX_SYMBOLS = 8\n",
    "DIVISOR = 1\n",
    "MAX_WORDS = 10000\n",
    "SOURCE_DATA = \"data/eng_count\"\n",
    "BAN_LIST = \"data/eng_ban\"\n",
    "WORDBASE = \"data/eng_wordbase.db\"\n",
    "LEVEL_OUTPUT_DIR = \"eng_cookie/\"\n",
    "SAVE_PATH = \"data/eng_generator\""
   ]
  },
  {
   "cell_type": "code",
   "execution_count": 1,
   "metadata": {
    "collapsed": true
   },
   "outputs": [],
   "source": [
    "# THAI SET\n",
    "\n",
    "MAX_SYMBOLS = 8\n",
    "DIVISOR = 3\n",
    "MAX_WORDS = 0\n",
    "SOURCE_DATA = \"data/thai_dict\"\n",
    "BAN_LIST = \"data/thai_ban\"\n",
    "WORDBASE = \"data/thai_wordbase.db\"\n",
    "LEVEL_OUTPUT_DIR = \"thai_cookie/\"\n",
    "SAVE_PATH = \"data/thai_generator\""
   ]
  },
  {
   "cell_type": "markdown",
   "metadata": {},
   "source": [
    "### Extract Word Data\n",
    "Extract the word data, and possibly score, from a known data-set. Then ban any undesirable words and save this to a sqlite database."
   ]
  },
  {
   "cell_type": "code",
   "execution_count": null,
   "metadata": {},
   "outputs": [],
   "source": [
    "from wpg.data.importer import Importer\n",
    "importer = Importer()\n",
    "ban_list = importer.extract_literals(BAN_LIST)\n",
    "importer.extract_words(file_path=SOURCE_DATA,\n",
    "                       db_path=WORDBASE,\n",
    "                       ban_list=ban_list,\n",
    "                       delimiter='\\t',\n",
    "                       max_symbols=MAX_SYMBOLS, \n",
    "                       divide=DIVISOR,  \n",
    "                       max_words=MAX_WORDS)\n",
    "\n",
    "print(\"Extraction Complete\")"
   ]
  },
  {
   "cell_type": "code",
   "execution_count": null,
   "metadata": {},
   "outputs": [],
   "source": [
    "from wpg.generator import Generator\n",
    "generator = Generator()\n",
    "generator.import_data(WORDBASE)\n",
    "generator.calibrate_buckets()"
   ]
  },
  {
   "cell_type": "markdown",
   "metadata": {},
   "source": [
    "### Save the Generator data for use later"
   ]
  },
  {
   "cell_type": "code",
   "execution_count": null,
   "metadata": {
    "collapsed": true
   },
   "outputs": [],
   "source": [
    "generator.save(SAVE_PATH)"
   ]
  },
  {
   "cell_type": "markdown",
   "metadata": {},
   "source": [
    "#### (Optional: Load Generator Data from a previous session)"
   ]
  },
  {
   "cell_type": "code",
   "execution_count": 2,
   "metadata": {},
   "outputs": [],
   "source": [
    "from wpg.generator import Generator\n",
    "generator = Generator()\n",
    "generator.load(SAVE_PATH)"
   ]
  },
  {
   "cell_type": "markdown",
   "metadata": {},
   "source": [
    "### See the Stats of the Generator"
   ]
  },
  {
   "cell_type": "code",
   "execution_count": 3,
   "metadata": {},
   "outputs": [
    {
     "name": "stdout",
     "output_type": "stream",
     "text": [
      "--------- GENERATOR STATS ---------\n",
      "Tier 2: 386 Buckets\n",
      "Tier 3: 1973 Buckets\n",
      "Tier 4: 2865 Buckets\n",
      "Tier 5: 3942 Buckets\n",
      "Tier 6: 5885 Buckets\n",
      "Tier 7: 5893 Buckets\n"
     ]
    }
   ],
   "source": [
    "generator.print_stats()"
   ]
  },
  {
   "cell_type": "markdown",
   "metadata": {},
   "source": [
    "### Generate the Levels"
   ]
  },
  {
   "cell_type": "code",
   "execution_count": 4,
   "metadata": {
    "collapsed": true
   },
   "outputs": [],
   "source": [
    "def make_level(n_puzzles, block_def):\n",
    "    for i in range(n_puzzles):\n",
    "        generator.make_puzzle_block(block_def, 0, 0.2)"
   ]
  },
  {
   "cell_type": "code",
   "execution_count": 5,
   "metadata": {
    "collapsed": true,
    "scrolled": false
   },
   "outputs": [],
   "source": [
    "generator.reset_flags()\n",
    "generator.set_output_dir(LEVEL_OUTPUT_DIR)\n",
    "\n",
    "make_level(2, {3:5})\n",
    "    \n",
    "make_level(2, {4:10})\n",
    "\n",
    "make_level(5, {4:5, 5:15})\n",
    "\n",
    "make_level(10, {5:20})\n",
    "\n",
    "make_level(10, {5:15, 6:5})\n",
    "\n",
    "make_level(10, {6:20})\n",
    "  \n",
    "make_level(10, {6:10, 7:10})\n",
    "\n",
    "make_level(10, {7:20})\n"
   ]
  },
  {
   "cell_type": "markdown",
   "metadata": {},
   "source": [
    "### Generate a Single Puzzle\n",
    "Generate a single puzzle from the system. It will not use a word that has already been used, if the same generator is loaded."
   ]
  },
  {
   "cell_type": "code",
   "execution_count": 6,
   "metadata": {},
   "outputs": [
    {
     "name": "stdout",
     "output_type": "stream",
     "text": [
      "KEY: กนยาเ\n",
      "WORDS: กาน กาย นาก นาย ยาก ยาน เกน เกย เกา เนย นายก กาเยน\n"
     ]
    }
   ],
   "source": [
    "generator.get_single_puzzle(5, 0.1)"
   ]
  },
  {
   "cell_type": "markdown",
   "metadata": {},
   "source": [
    "### Analyse Single String\n",
    "To analyse a single string and see the possible puzzles."
   ]
  },
  {
   "cell_type": "code",
   "execution_count": 7,
   "metadata": {},
   "outputs": [
    {
     "name": "stdout",
     "output_type": "stream",
     "text": [
      "Analysing String: laser\n",
      "Key: aelrs\n"
     ]
    },
    {
     "ename": "AttributeError",
     "evalue": "'NoneType' object has no attribute 'sub_buckets'",
     "output_type": "error",
     "traceback": [
      "\u001b[0;31m---------------------------------------------------------------------------\u001b[0m",
      "\u001b[0;31mAttributeError\u001b[0m                            Traceback (most recent call last)",
      "\u001b[0;32m<ipython-input-7-c1e5d4794179>\u001b[0m in \u001b[0;36m<module>\u001b[0;34m()\u001b[0m\n\u001b[1;32m      1\u001b[0m \u001b[0mWORD_TO_ANALYSE\u001b[0m \u001b[0;34m=\u001b[0m \u001b[0;34m\"laser\"\u001b[0m\u001b[0;34m\u001b[0m\u001b[0m\n\u001b[0;32m----> 2\u001b[0;31m \u001b[0mgenerator\u001b[0m\u001b[0;34m.\u001b[0m\u001b[0manalyse\u001b[0m\u001b[0;34m(\u001b[0m\u001b[0mWORD_TO_ANALYSE\u001b[0m\u001b[0;34m)\u001b[0m\u001b[0;34m\u001b[0m\u001b[0m\n\u001b[0m",
      "\u001b[0;32m/home/krin/Documents/Production/wp-gen/wpg/generator.pyc\u001b[0m in \u001b[0;36manalyse\u001b[0;34m(self, string)\u001b[0m\n\u001b[1;32m    154\u001b[0m \u001b[0;34m\u001b[0m\u001b[0m\n\u001b[1;32m    155\u001b[0m         \u001b[0mbucket\u001b[0m \u001b[0;34m=\u001b[0m \u001b[0mself\u001b[0m\u001b[0;34m.\u001b[0m\u001b[0mget_bucket\u001b[0m\u001b[0;34m(\u001b[0m\u001b[0mkey\u001b[0m\u001b[0;34m)\u001b[0m\u001b[0;34m\u001b[0m\u001b[0m\n\u001b[0;32m--> 156\u001b[0;31m         \u001b[0;32mprint\u001b[0m\u001b[0;34m(\u001b[0m\u001b[0;34m\"Sub Bucket Count: {}\"\u001b[0m\u001b[0;34m.\u001b[0m\u001b[0mformat\u001b[0m\u001b[0;34m(\u001b[0m\u001b[0mlen\u001b[0m\u001b[0;34m(\u001b[0m\u001b[0mbucket\u001b[0m\u001b[0;34m.\u001b[0m\u001b[0msub_buckets\u001b[0m\u001b[0;34m)\u001b[0m\u001b[0;34m)\u001b[0m\u001b[0;34m)\u001b[0m\u001b[0;34m\u001b[0m\u001b[0m\n\u001b[0m\u001b[1;32m    157\u001b[0m \u001b[0;34m\u001b[0m\u001b[0m\n\u001b[1;32m    158\u001b[0m         \u001b[0mwords\u001b[0m \u001b[0;34m=\u001b[0m \u001b[0mbucket\u001b[0m\u001b[0;34m.\u001b[0m\u001b[0mget_word_values\u001b[0m\u001b[0;34m(\u001b[0m\u001b[0;34m)\u001b[0m\u001b[0;34m\u001b[0m\u001b[0m\n",
      "\u001b[0;31mAttributeError\u001b[0m: 'NoneType' object has no attribute 'sub_buckets'"
     ]
    }
   ],
   "source": [
    "WORD_TO_ANALYSE = \"laser\"\n",
    "generator.analyse(WORD_TO_ANALYSE)"
   ]
  },
  {
   "cell_type": "markdown",
   "metadata": {},
   "source": [
    "### Get Top N Buckets\n",
    "Find the top n buckets for the select tier of words."
   ]
  },
  {
   "cell_type": "code",
   "execution_count": 8,
   "metadata": {
    "scrolled": false
   },
   "outputs": [
    {
     "name": "stdout",
     "output_type": "stream",
     "text": [
      "Getting Top 5 Buckets from Tier 5\n",
      "Analysing String: กนรวา\n",
      "Key: กนรวา\n",
      "Sub Bucket Count: 14\n",
      "Word Count: 20\n",
      "Words: กรน, กวน, กาน, การ, กาว, นรก, นาก, รวก, รวน, ราก, ราน, ราว, วาก, วาน, วาร, กราน, กราว, กวาน, วานร, การวน\n",
      " ====================================== \n",
      "Analysing String: กยรวา\n",
      "Key: กยรวา\n",
      "Sub Bucket Count: 11\n",
      "Word Count: 17\n",
      "Words: กาย, การ, กาว, ยาก, ยาว, รวก, รวย, ราก, ราย, ราว, วาก, วาย, วาร, กรวย, กราย, กราว, วรกาย\n",
      " ====================================== \n",
      "Analysing String: กนวา้\n",
      "Key: กนวา้\n",
      "Sub Bucket Count: 11\n",
      "Word Count: 15\n",
      "Words: กวน, กาน, กาว, ก้น, นาก, น้า, วาก, วาน, ว้า, กวาน, ก้าน, ก้าว, น้าว, ว้าก, กว้าน\n",
      " ====================================== \n",
      "Analysing String: กนรา้\n",
      "Key: กนรา้\n",
      "Sub Bucket Count: 11\n",
      "Word Count: 15\n",
      "Words: กรน, กาน, การ, ก้น, นรก, นาก, น้า, ราก, ราน, ร้น, ร้า, กราน, ก้าน, ร้าน, กร้าน\n",
      " ====================================== \n",
      "Analysing String: งยอา่\n",
      "Key: งยอา่\n",
      "Sub Bucket Count: 11\n",
      "Word Count: 14\n",
      "Words: ง่า, ยอง, ยาง, ย่อ, ย่า, อาย, อ่า, ง่อย, ง่าย, ย่อง, ย่าง, อย่า, อ่าง, อย่าง\n",
      " ====================================== \n"
     ]
    },
    {
     "data": {
      "text/plain": [
       "[<wpg.bucket.Bucket instance at 0x7fcc9ca0f9e0>,\n",
       " <wpg.bucket.Bucket instance at 0x7fcc9ca1d908>,\n",
       " <wpg.bucket.Bucket instance at 0x7fcc9d7e7ab8>,\n",
       " <wpg.bucket.Bucket instance at 0x7fcc9c218878>,\n",
       " <wpg.bucket.Bucket instance at 0x7fcc9cbbd200>]"
      ]
     },
     "execution_count": 8,
     "metadata": {},
     "output_type": "execute_result"
    }
   ],
   "source": [
    "TIER = 5\n",
    "N = 5\n",
    "generator.top_n_buckets(TIER, N)"
   ]
  }
 ],
 "metadata": {
  "kernelspec": {
   "display_name": "Python 2",
   "language": "python",
   "name": "python2"
  },
  "language_info": {
   "codemirror_mode": {
    "name": "ipython",
    "version": 2
   },
   "file_extension": ".py",
   "mimetype": "text/x-python",
   "name": "python",
   "nbconvert_exporter": "python",
   "pygments_lexer": "ipython2",
   "version": "2.7.13"
  }
 },
 "nbformat": 4,
 "nbformat_minor": 2
}
