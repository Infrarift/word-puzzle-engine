{
 "cells": [
  {
   "cell_type": "code",
   "execution_count": 1,
   "metadata": {
    "collapsed": true
   },
   "outputs": [],
   "source": [
    "WORDS_TO_IMPORT = 5000"
   ]
  },
  {
   "cell_type": "code",
   "execution_count": 2,
   "metadata": {},
   "outputs": [
    {
     "name": "stdout",
     "output_type": "stream",
     "text": [
      "Tier 1 Duration: 0.00\n",
      "Tier 2 Duration: 0.00\n",
      "Tier 3 Duration: 0.42\n",
      "Tier 4 Duration: 2.36\n",
      "Tier 5 Duration: 5.54\n",
      "Tier 6 Duration: 10.44\n",
      "Tier 7 Duration: 15.20\n",
      "Link Sub Buckets: 33.98\n"
     ]
    }
   ],
   "source": [
    "from wpg.generator import Generator\n",
    "word_file = open(\"data/count_1w.txt\", \"r\")\n",
    "generator = Generator()\n",
    "\n",
    "i = 0\n",
    "for line in word_file:\n",
    "    words = line.split('\\t')\n",
    "    freq = int(words[1].replace('\\n', ''))\n",
    "    generator.add_word(words[0], freq/10000)\n",
    "    i += 1\n",
    "    if i > WORDS_TO_IMPORT:\n",
    "        break\n",
    "        \n",
    "generator.calibrate_buckets()"
   ]
  },
  {
   "cell_type": "markdown",
   "metadata": {},
   "source": [
    "### See the Stats of the Generator"
   ]
  },
  {
   "cell_type": "code",
   "execution_count": 3,
   "metadata": {},
   "outputs": [
    {
     "name": "stdout",
     "output_type": "stream",
     "text": [
      "--------- GENERATOR STATS ---------\n",
      "Tier 2: 149 Buckets\n",
      "Tier 3: 315 Buckets\n",
      "Tier 4: 599 Buckets\n",
      "Tier 5: 711 Buckets\n",
      "Tier 6: 749 Buckets\n",
      "Tier 7: 722 Buckets\n"
     ]
    }
   ],
   "source": [
    "generator.print_stats()"
   ]
  },
  {
   "cell_type": "markdown",
   "metadata": {},
   "source": [
    "### Generate the Levels"
   ]
  },
  {
   "cell_type": "code",
   "execution_count": 4,
   "metadata": {
    "collapsed": true
   },
   "outputs": [],
   "source": [
    "def make_level(n_puzzles, block_def):\n",
    "    for i in range(n_puzzles):\n",
    "        generator.make_puzzle_block(block_def, 0, 0.2)"
   ]
  },
  {
   "cell_type": "code",
   "execution_count": 5,
   "metadata": {
    "collapsed": true,
    "scrolled": false
   },
   "outputs": [],
   "source": [
    "generator.reset_flags()\n",
    "\n",
    "make_level(2, {3:5})\n",
    "    \n",
    "make_level(2, {4:10})\n",
    "\n",
    "make_level(5, {4:5, 5:15})\n",
    "\n",
    "make_level(10, {5:20})\n",
    "\n",
    "make_level(10, {5:15, 6:5})\n",
    "\n",
    "make_level(10, {6:20})\n",
    "  \n",
    "make_level(10, {6:10, 7:10})\n",
    "\n",
    "make_level(10, {7:20})\n"
   ]
  },
  {
   "cell_type": "markdown",
   "metadata": {},
   "source": [
    "### Analyse Single String\n",
    "To analyse a single string and see the possible puzzles."
   ]
  },
  {
   "cell_type": "code",
   "execution_count": null,
   "metadata": {
    "collapsed": true
   },
   "outputs": [],
   "source": [
    "WORD_TO_ANALYSE = \"those\"\n",
    "generator.analyse(WORD_TO_ANALYSE)"
   ]
  },
  {
   "cell_type": "markdown",
   "metadata": {},
   "source": [
    "### Get Top N Buckets\n",
    "Find the top n buckets for the select tier of words."
   ]
  },
  {
   "cell_type": "code",
   "execution_count": null,
   "metadata": {
    "collapsed": true,
    "scrolled": false
   },
   "outputs": [],
   "source": [
    "TIER = 6\n",
    "N = 5\n",
    "generator.top_n_buckets(TIER, N)"
   ]
  }
 ],
 "metadata": {
  "kernelspec": {
   "display_name": "Python 2",
   "language": "python",
   "name": "python2"
  },
  "language_info": {
   "codemirror_mode": {
    "name": "ipython",
    "version": 2
   },
   "file_extension": ".py",
   "mimetype": "text/x-python",
   "name": "python",
   "nbconvert_exporter": "python",
   "pygments_lexer": "ipython2",
   "version": "2.7.13"
  }
 },
 "nbformat": 4,
 "nbformat_minor": 2
}
