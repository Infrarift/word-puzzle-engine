{
 "cells": [
  {
   "cell_type": "markdown",
   "metadata": {},
   "source": [
    "# Word Puzzle Generator\n",
    "This system generates a set of word puzzles for mobile games. First we need to import the data, then build a graph for the generator. We can save/load the generator, and use the generator to traverse the graph and create puzzles to a CSV format."
   ]
  },
  {
   "cell_type": "code",
   "execution_count": 1,
   "metadata": {
    "collapsed": true
   },
   "outputs": [],
   "source": [
    "# ENGLISH SET\n",
    "\n",
    "MAX_SYMBOLS = 8\n",
    "DIVISOR = 1\n",
    "MAX_WORDS = 5000\n",
    "SOURCE_DATA = \"data/eng_count\"\n",
    "BAN_LIST = \"data/eng_ban\"\n",
    "WORDBASE = \"data/eng_wordbase.db\"\n",
    "LEVEL_OUTPUT_DIR = \"eng_cookie/\"\n",
    "SAVE_PATH = \"data/eng_generator\""
   ]
  },
  {
   "cell_type": "code",
   "execution_count": 1,
   "metadata": {
    "collapsed": true
   },
   "outputs": [],
   "source": [
    "# THAI SET\n",
    "\n",
    "MAX_SYMBOLS = 8\n",
    "DIVISOR = 3\n",
    "MAX_WORDS = 0\n",
    "SOURCE_DATA = \"data/thai_dict\"\n",
    "BAN_LIST = \"data/thai_ban\"\n",
    "WORDBASE = \"data/thai_wordbase.db\"\n",
    "LEVEL_OUTPUT_DIR = \"thai_cookie/\"\n",
    "SAVE_PATH = \"data/thai_generator\""
   ]
  },
  {
   "cell_type": "code",
   "execution_count": null,
   "metadata": {
    "collapsed": true
   },
   "outputs": [],
   "source": []
  },
  {
   "cell_type": "markdown",
   "metadata": {},
   "source": [
    "### Extract Word Data\n",
    "Extract the word data, and possibly score, from a known data-set. Then ban any undesirable words and save this to a sqlite database."
   ]
  },
  {
   "cell_type": "code",
   "execution_count": 2,
   "metadata": {},
   "outputs": [
    {
     "name": "stdout",
     "output_type": "stream",
     "text": [
      "Words Banned: 4\n",
      "Extraction Complete\n"
     ]
    }
   ],
   "source": [
    "from wpg.data.importer import Importer\n",
    "importer = Importer()\n",
    "ban_list = importer.extract_literals(BAN_LIST)\n",
    "importer.extract_words(file_path=SOURCE_DATA,\n",
    "                       db_path=WORDBASE,\n",
    "                       ban_list=ban_list,\n",
    "                       delimiter='\\t',\n",
    "                       max_symbols=MAX_SYMBOLS, \n",
    "                       divide=DIVISOR,  \n",
    "                       max_words=MAX_WORDS)\n",
    "\n",
    "print(\"Extraction Complete\")"
   ]
  },
  {
   "cell_type": "code",
   "execution_count": null,
   "metadata": {
    "collapsed": true
   },
   "outputs": [],
   "source": []
  },
  {
   "cell_type": "code",
   "execution_count": 3,
   "metadata": {},
   "outputs": [
    {
     "name": "stdout",
     "output_type": "stream",
     "text": [
      "Tier 1 Duration: 0.00\n",
      "Tier 2 Duration: 0.00\n",
      "Tier 3 Duration: 0.03\n",
      "Tier 4 Duration: 0.15\n",
      "Tier 5 Duration: 0.36\n",
      "Tier 6 Duration: 0.75\n",
      "Tier 7 Duration: 1.12\n",
      "Link Sub Buckets: 2.41\n"
     ]
    }
   ],
   "source": [
    "from wpg.generator import Generator\n",
    "generator = Generator()\n",
    "generator.import_data(WORDBASE)\n",
    "generator.calibrate_buckets()"
   ]
  },
  {
   "cell_type": "code",
   "execution_count": null,
   "metadata": {
    "collapsed": true
   },
   "outputs": [],
   "source": []
  },
  {
   "cell_type": "markdown",
   "metadata": {},
   "source": [
    "### Save the Generator data for use later"
   ]
  },
  {
   "cell_type": "code",
   "execution_count": null,
   "metadata": {
    "collapsed": true
   },
   "outputs": [],
   "source": [
    "generator.save(SAVE_PATH)"
   ]
  },
  {
   "cell_type": "markdown",
   "metadata": {},
   "source": [
    "#### (Optional: Load Generator Data from a previous session)"
   ]
  },
  {
   "cell_type": "code",
   "execution_count": null,
   "metadata": {
    "collapsed": true
   },
   "outputs": [],
   "source": [
    "from wpg.generator import Generator\n",
    "generator = Generator()\n",
    "generator.load(SAVE_PATH)"
   ]
  },
  {
   "cell_type": "markdown",
   "metadata": {},
   "source": [
    "### See the Stats of the Generator"
   ]
  },
  {
   "cell_type": "code",
   "execution_count": 4,
   "metadata": {},
   "outputs": [
    {
     "name": "stdout",
     "output_type": "stream",
     "text": [
      "--------- GENERATOR STATS ---------\n",
      "Tier 2: 184 Buckets\n",
      "Tier 3: 374 Buckets\n",
      "Tier 4: 696 Buckets\n",
      "Tier 5: 845 Buckets\n",
      "Tier 6: 941 Buckets\n",
      "Tier 7: 915 Buckets\n"
     ]
    }
   ],
   "source": [
    "generator.print_stats()"
   ]
  },
  {
   "cell_type": "code",
   "execution_count": null,
   "metadata": {
    "collapsed": true
   },
   "outputs": [],
   "source": []
  },
  {
   "cell_type": "markdown",
   "metadata": {},
   "source": [
    "### Generate the Levels"
   ]
  },
  {
   "cell_type": "code",
   "execution_count": 5,
   "metadata": {
    "collapsed": true
   },
   "outputs": [],
   "source": [
    "def make_level(n_puzzles, block_def):\n",
    "    for i in range(n_puzzles):\n",
    "        puzzle_name = \"Puzzle Name\"\n",
    "        puzzle_block = generator.make_puzzle_block(puzzle_name, block_def, 0, 0.2)\n",
    "        generator.write_puzzle_block_to_csv(puzzle_block)"
   ]
  },
  {
   "cell_type": "code",
   "execution_count": 6,
   "metadata": {
    "collapsed": true,
    "scrolled": false
   },
   "outputs": [],
   "source": [
    "generator.reset_flags()\n",
    "generator.set_output_dir(LEVEL_OUTPUT_DIR)\n",
    "\n",
    "make_level(2, {3:5})\n",
    "    \n",
    "make_level(2, {4:10})\n",
    "\n",
    "make_level(5, {4:5, 5:15})\n",
    "\n",
    "make_level(10, {5:20})\n",
    "\n",
    "make_level(10, {5:15, 6:5})\n",
    "\n",
    "make_level(10, {6:20})\n",
    "  \n",
    "make_level(10, {6:10, 7:10})\n",
    "\n",
    "make_level(10, {7:20})\n"
   ]
  },
  {
   "cell_type": "markdown",
   "metadata": {},
   "source": [
    "### Generate a Single Puzzle\n",
    "Generate a single puzzle from the system. It will not use a word that has already been used, if the same generator is loaded."
   ]
  },
  {
   "cell_type": "code",
   "execution_count": 6,
   "metadata": {},
   "outputs": [
    {
     "name": "stdout",
     "output_type": "stream",
     "text": [
      "KEY: นวสะเ\n",
      "WORDS: วสะ สนะ สวน สวะ เวน เสน วสนะ สวนะ เสนะ เสวนะ\n"
     ]
    }
   ],
   "source": [
    "generator.get_single_puzzle(5, 0.1)"
   ]
  },
  {
   "cell_type": "markdown",
   "metadata": {},
   "source": [
    "### Analyse Single String\n",
    "To analyse a single string and see the possible puzzles."
   ]
  },
  {
   "cell_type": "code",
   "execution_count": null,
   "metadata": {
    "collapsed": true
   },
   "outputs": [],
   "source": [
    "WORD_TO_ANALYSE = u\"สวัสดี\"\n",
    "generator.analyse(WORD_TO_ANALYSE)"
   ]
  },
  {
   "cell_type": "markdown",
   "metadata": {},
   "source": [
    "### Get Top N Buckets\n",
    "Find the top n buckets for the select tier of words."
   ]
  },
  {
   "cell_type": "code",
   "execution_count": null,
   "metadata": {
    "collapsed": true,
    "scrolled": false
   },
   "outputs": [],
   "source": [
    "TIER = 5\n",
    "N = 5\n",
    "generator.top_n_buckets(TIER, N)"
   ]
  }
 ],
 "metadata": {
  "kernelspec": {
   "display_name": "Python 2",
   "language": "python",
   "name": "python2"
  },
  "language_info": {
   "codemirror_mode": {
    "name": "ipython",
    "version": 2
   },
   "file_extension": ".py",
   "mimetype": "text/x-python",
   "name": "python",
   "nbconvert_exporter": "python",
   "pygments_lexer": "ipython2",
   "version": "2.7.13"
  }
 },
 "nbformat": 4,
 "nbformat_minor": 2
}
